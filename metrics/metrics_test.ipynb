{
 "cells": [
  {
   "cell_type": "code",
   "execution_count": 3,
   "metadata": {},
   "outputs": [],
   "source": [
    "import numpy as np\n",
    "from src.motion_refiner_4D import Motion_refiner\n",
    "\n",
    "# base_folder = \"/home/tum/data/\"\n",
    "base_folder = \"/home/arthur/local_data/\" \n",
    "\n",
    "traj_n = 40\n",
    "mr = Motion_refiner(load_models=False ,traj_n = traj_n, locality_factor=True)\n",
    "feature_indices, obj_sim_indices, obj_poses_indices, traj_indices = mr.get_indices()\n",
    "embedding_indices = np.concatenate([feature_indices,obj_sim_indices, obj_poses_indices])"
   ]
  },
  {
   "cell_type": "code",
   "execution_count": 4,
   "metadata": {},
   "outputs": [
    {
     "name": "stdout",
     "output_type": "stream",
     "text": [
      "loading data... "
     ]
    }
   ],
   "source": [
    "dataset_name = \"4D_100k_scaping_factor\"\n",
    "\n",
    "X,Y, data = mr.load_dataset(dataset_name, filter_data = True, base_path=base_folder+\"data/\")\n",
    "X_train, X_test, X_valid, y_train, y_test, y_valid, indices_train, indices_test, indices_val = mr.split_dataset(X, Y, test_size=0.2, val_size=0.1)\n"
   ]
  },
  {
   "cell_type": "markdown",
   "metadata": {},
   "source": [
    "## Dynamic time warping (DTW)"
   ]
  },
  {
   "cell_type": "code",
   "execution_count": null,
   "metadata": {},
   "outputs": [],
   "source": [
    "from scipy.spatial.distance import euclidean\n",
    "from fastdtw import fastdtw\n",
    "\n",
    "distance, path = fastdtw(x, y, dist=euclidean)\n",
    "print(distance)\n"
   ]
  },
  {
   "cell_type": "code",
   "execution_count": null,
   "metadata": {},
   "outputs": [],
   "source": [
    "import similaritymeasures\n",
    "\n",
    "# quantify the difference between the two curves using PCM\n",
    "pcm = similaritymeasures.pcm(exp_data, num_data)\n",
    "\n",
    "# quantify the difference between the two curves using\n",
    "# Discrete Frechet distance\n",
    "df = similaritymeasures.frechet_dist(exp_data, num_data)\n",
    "\n",
    "# quantify the difference between the two curves using\n",
    "# area between two curves\n",
    "area = similaritymeasures.area_between_two_curves(exp_data, num_data)\n",
    "\n",
    "# quantify the difference between the two curves using\n",
    "# Curve Length based similarity measure\n",
    "cl = similaritymeasures.curve_length_measure(exp_data, num_data)\n",
    "\n",
    "# quantify the difference between the two curves using\n",
    "# Dynamic Time Warping distance\n",
    "dtw, d = similaritymeasures.dtw(exp_data, num_data)\n",
    "\n",
    "# mean absolute error\n",
    "mae = similaritymeasures.mae(exp_data, num_data)\n",
    "\n",
    "# mean squared error\n",
    "mse = similaritymeasures.mse(exp_data, num_data)\n"
   ]
  }
 ],
 "metadata": {
  "interpreter": {
   "hash": "baa67c100062a454c4e138a7a6580a1e362e959b3b5eb5246f17cb7b129cf6d8"
  },
  "kernelspec": {
   "display_name": "Python 3.8.2 ('py38')",
   "language": "python",
   "name": "python3"
  },
  "language_info": {
   "codemirror_mode": {
    "name": "ipython",
    "version": 3
   },
   "file_extension": ".py",
   "mimetype": "text/x-python",
   "name": "python",
   "nbconvert_exporter": "python",
   "pygments_lexer": "ipython3",
   "version": "3.8.2"
  },
  "orig_nbformat": 4
 },
 "nbformat": 4,
 "nbformat_minor": 2
}
