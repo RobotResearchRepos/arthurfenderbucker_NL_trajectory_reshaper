{
 "cells": [
  {
   "cell_type": "code",
   "execution_count": 7,
   "metadata": {},
   "outputs": [
    {
     "name": "stdout",
     "output_type": "stream",
     "text": [
      "The autoreload extension is already loaded. To reload it, use:\n",
      "  %reload_ext autoreload\n"
     ]
    }
   ],
   "source": [
    "\n",
    "import numpy as np\n",
    "import matplotlib.pyplot as plt\n",
    "from mpl_toolkits.mplot3d import Axes3D #for plotting the 3-D plot.\n",
    "from data_generator.labels_generator import Label_generator\n",
    "from data_generator.data_gen_utils import *\n",
    "from src.motion_refiner_4D import Motion_refiner\n",
    "from src.functions import *\n",
    "\n",
    "import warnings\n",
    "warnings.filterwarnings(\"ignore\", category=DeprecationWarning) \n",
    "# warnings.filterwarnings(\"ignore\", category=FutureWarning) \n",
    "\n",
    "\n",
    "%load_ext autoreload\n",
    "%autoreload 2"
   ]
  },
  {
   "cell_type": "code",
   "execution_count": 8,
   "metadata": {},
   "outputs": [
    {
     "name": "stdout",
     "output_type": "stream",
     "text": [
      "loading BERT model... "
     ]
    },
    {
     "name": "stderr",
     "output_type": "stream",
     "text": [
      "Some weights of the model checkpoint at distilbert-base-uncased were not used when initializing DistilBertModel: ['vocab_projector.bias', 'vocab_layer_norm.bias', 'vocab_transform.bias', 'vocab_transform.weight', 'vocab_layer_norm.weight', 'vocab_projector.weight']\n",
      "- This IS expected if you are initializing DistilBertModel from the checkpoint of a model trained on another task or with another architecture (e.g. initializing a BertForSequenceClassification model from a BertForPreTraining model).\n",
      "- This IS NOT expected if you are initializing DistilBertModel from the checkpoint of a model that you expect to be exactly identical (initializing a BertForSequenceClassification model from a BertForSequenceClassification model).\n"
     ]
    },
    {
     "name": "stdout",
     "output_type": "stream",
     "text": [
      "done\n",
      "loading CLIP model... done\n"
     ]
    }
   ],
   "source": [
    "traj_n = 40\n",
    "mr = Motion_refiner(traj_n = traj_n)"
   ]
  },
  {
   "cell_type": "code",
   "execution_count": 28,
   "metadata": {},
   "outputs": [
    {
     "name": "stderr",
     "output_type": "stream",
     "text": [
      "100%|██████████| 2/2 [00:00<00:00,  2.25it/s]\n"
     ]
    },
    {
     "name": "stdout",
     "output_type": "stream",
     "text": [
      "8\n"
     ]
    },
    {
     "name": "stderr",
     "output_type": "stream",
     "text": [
      "8it [00:02,  2.82it/s]\n"
     ]
    },
    {
     "name": "stdout",
     "output_type": "stream",
     "text": [
      "DONE - computing embeddings and similarity vectors \n"
     ]
    },
    {
     "name": "stderr",
     "output_type": "stream",
     "text": [
      "8it [00:00, 17233.91it/s]\n"
     ]
    },
    {
     "name": "stdout",
     "output_type": "stream",
     "text": [
      "DONE - concatenating \n",
      "X:  (8, 952)\n",
      "Y:  (8, 160)\n",
      "DONE computing embeddings\n",
      "saving data...\n"
     ]
    },
    {
     "ename": "",
     "evalue": "",
     "output_type": "error",
     "traceback": [
      "\u001b[1;31mThe Kernel crashed while executing code in the the current cell or a previous cell. Please review the code in the cell(s) to identify a possible cause of the failure. Click <a href='https://aka.ms/vscodeJupyterKernelCrash'>here</a> for more info. View Jupyter <a href='command:jupyter.viewOutput'>log</a> for further details."
     ]
    }
   ],
   "source": [
    "images_base_path=\"/home/mirmi/Arthur/dataset/\"\n",
    "obj_lib_file= \"/home/mirmi/Arthur/trajnlp_ws/src/NL_trajectory_reshaper/imagenet1000_clsidx_to_labels.txt\"\n",
    "dataset_name = \"4D_100000_objs_2to6_norm\"\n",
    "\n",
    "dg = data_generator({'dist':1,'speed':1, 'cartesian':1}, obj_lib_file= obj_lib_file, images_base_path=images_base_path)\n",
    "data = dg.generate(2,4,N=[20,100],n_int=[5,15])\n",
    "print(len(data))\n",
    "\n",
    "## ------- processed data -------\n",
    "X,Y = mr.prepare_data(data,deltas=False)\n",
    "print(\"X: \",X.shape)\n",
    "print(\"Y: \",Y.shape)\n",
    "print(\"DONE computing embeddings\")\n",
    "print(\"saving data...\")\n",
    "# ------- save pre processed data -------\n",
    "# mr.save_XY(X, Y, x_name=\"X\"+dataset_name,y_name=\"Y\"+dataset_name)\n",
    "# mr.save_data(data,data_name=\"data\"+dataset_name)\n",
    "# print(\"DONE\")\n",
    "%matplotlib qt\n",
    "\n",
    "data_sample = random.choices(data,k=3)\n",
    "show_data4D(data_sample,image_loader=mr.image_loader)"
   ]
  },
  {
   "cell_type": "code",
   "execution_count": 25,
   "metadata": {},
   "outputs": [
    {
     "data": {
      "text/plain": [
       "4"
      ]
     },
     "execution_count": 25,
     "metadata": {},
     "output_type": "execute_result"
    }
   ],
   "source": [
    "random.choice(range(3,5))"
   ]
  },
  {
   "cell_type": "code",
   "execution_count": 5,
   "metadata": {},
   "outputs": [
    {
     "name": "stderr",
     "output_type": "stream",
     "text": [
      "10000it [41:56,  3.97it/s]\n"
     ]
    },
    {
     "name": "stdout",
     "output_type": "stream",
     "text": [
      "DONE - computing embeddings and similarity vectors \n"
     ]
    },
    {
     "name": "stderr",
     "output_type": "stream",
     "text": [
      "10000it [00:00, 49513.68it/s]"
     ]
    },
    {
     "name": "stdout",
     "output_type": "stream",
     "text": [
      "DONE - concatenating \n",
      "X:  (10000, 952)\n",
      "Y:  (10000, 160)\n"
     ]
    },
    {
     "name": "stderr",
     "output_type": "stream",
     "text": [
      "\n"
     ]
    }
   ],
   "source": [
    "## ------- processed data -------\n",
    "X,Y = mr.prepare_data(data,deltas=False)\n",
    "print(\"X: \",X.shape)\n",
    "print(\"Y: \",Y.shape)"
   ]
  },
  {
   "cell_type": "code",
   "execution_count": 3,
   "metadata": {},
   "outputs": [
    {
     "ename": "NameError",
     "evalue": "name 'mr' is not defined",
     "output_type": "error",
     "traceback": [
      "\u001b[0;31m---------------------------------------------------------------------------\u001b[0m",
      "\u001b[0;31mNameError\u001b[0m                                 Traceback (most recent call last)",
      "\u001b[1;32m/home/mirmi/Arthur/trajnlp_ws/src/NL_trajectory_reshaper/generate_dataset.ipynb Cell 6'\u001b[0m in \u001b[0;36m<module>\u001b[0;34m\u001b[0m\n\u001b[1;32m      <a href='vscode-notebook-cell:/home/mirmi/Arthur/trajnlp_ws/src/NL_trajectory_reshaper/generate_dataset.ipynb#ch0000007?line=0'>1</a>\u001b[0m \u001b[39m# ------- save pre processed data -------\u001b[39;00m\n\u001b[1;32m      <a href='vscode-notebook-cell:/home/mirmi/Arthur/trajnlp_ws/src/NL_trajectory_reshaper/generate_dataset.ipynb#ch0000007?line=1'>2</a>\u001b[0m \u001b[39m# mr.save_XY(X, Y, x_name=\"X4D_10000_objs_2to6_norm_\",y_name=\"Y4D_10000_objs_2to6_norm_\")\u001b[39;00m\n\u001b[1;32m      <a href='vscode-notebook-cell:/home/mirmi/Arthur/trajnlp_ws/src/NL_trajectory_reshaper/generate_dataset.ipynb#ch0000007?line=2'>3</a>\u001b[0m \u001b[39m# mr.save_data(data,data_name=\"data4D_100000_objs_2to6_norm_\")\u001b[39;00m\n\u001b[1;32m      <a href='vscode-notebook-cell:/home/mirmi/Arthur/trajnlp_ws/src/NL_trajectory_reshaper/generate_dataset.ipynb#ch0000007?line=3'>4</a>\u001b[0m \n\u001b[1;32m      <a href='vscode-notebook-cell:/home/mirmi/Arthur/trajnlp_ws/src/NL_trajectory_reshaper/generate_dataset.ipynb#ch0000007?line=4'>5</a>\u001b[0m \u001b[39m# ------- load data --------\u001b[39;00m\n\u001b[0;32m----> <a href='vscode-notebook-cell:/home/mirmi/Arthur/trajnlp_ws/src/NL_trajectory_reshaper/generate_dataset.ipynb#ch0000007?line=5'>6</a>\u001b[0m X_, Y_ \u001b[39m=\u001b[39m mr\u001b[39m.\u001b[39mload_XY(x_name\u001b[39m=\u001b[39m\u001b[39m\"\u001b[39m\u001b[39mX4D_10000_objs_2to6_norm_\u001b[39m\u001b[39m\"\u001b[39m,y_name\u001b[39m=\u001b[39m\u001b[39m\"\u001b[39m\u001b[39mY4D_10000_objs_2to6_norm_\u001b[39m\u001b[39m\"\u001b[39m)\n\u001b[1;32m      <a href='vscode-notebook-cell:/home/mirmi/Arthur/trajnlp_ws/src/NL_trajectory_reshaper/generate_dataset.ipynb#ch0000007?line=6'>7</a>\u001b[0m data_ \u001b[39m=\u001b[39m mr\u001b[39m.\u001b[39mload_data(data_name\u001b[39m=\u001b[39m\u001b[39m\"\u001b[39m\u001b[39mdata4D_100000_objs_2to6_norm_\u001b[39m\u001b[39m\"\u001b[39m)\n\u001b[1;32m      <a href='vscode-notebook-cell:/home/mirmi/Arthur/trajnlp_ws/src/NL_trajectory_reshaper/generate_dataset.ipynb#ch0000007?line=7'>8</a>\u001b[0m feature_indices, obj_sim_indices, obj_poses_indices, traj_indices \u001b[39m=\u001b[39m mr\u001b[39m.\u001b[39mget_indices()\n",
      "\u001b[0;31mNameError\u001b[0m: name 'mr' is not defined"
     ]
    }
   ],
   "source": [
    "\n",
    "\n",
    "\n",
    "# ------- save pre processed data -------\n",
    "# mr.save_XY(X, Y, x_name=\"X4D_10000_objs_2to6_norm_\",y_name=\"Y4D_10000_objs_2to6_norm_\")\n",
    "# mr.save_data(data,data_name=\"data4D_100000_objs_2to6_norm_\")\n",
    "\n",
    "# ------- load data --------\n",
    "X_, Y_ = mr.load_XY(x_name=\"X4D_10000_objs_2to6_norm_\",y_name=\"Y4D_10000_objs_2to6_norm_\")\n",
    "data_ = mr.load_data(data_name=\"data4D_100000_objs_2to6_norm_\")\n",
    "feature_indices, obj_sim_indices, obj_poses_indices, traj_indices = mr.get_indices()"
   ]
  },
  {
   "cell_type": "code",
   "execution_count": 2,
   "metadata": {},
   "outputs": [
    {
     "name": "stderr",
     "output_type": "stream",
     "text": [
      "2022-06-04 18:07:48.582904: I tensorflow/stream_executor/platform/default/dso_loader.cc:49] Successfully opened dynamic library libcudart.so.10.1\n"
     ]
    },
    {
     "ename": "NameError",
     "evalue": "name 'X' is not defined",
     "output_type": "error",
     "traceback": [
      "\u001b[0;31m---------------------------------------------------------------------------\u001b[0m",
      "\u001b[0;31mNameError\u001b[0m                                 Traceback (most recent call last)",
      "\u001b[1;32m/home/mirmi/Arthur/trajnlp_ws/src/NL_trajectory_reshaper/generate_dataset.ipynb Cell 7'\u001b[0m in \u001b[0;36m<module>\u001b[0;34m\u001b[0m\n\u001b[1;32m      <a href='vscode-notebook-cell:/home/mirmi/Arthur/trajnlp_ws/src/NL_trajectory_reshaper/generate_dataset.ipynb#ch0000008?line=0'>1</a>\u001b[0m \u001b[39mfrom\u001b[39;00m \u001b[39msrc\u001b[39;00m\u001b[39m.\u001b[39;00m\u001b[39mfunctions\u001b[39;00m \u001b[39mimport\u001b[39;00m \u001b[39m*\u001b[39m\n\u001b[0;32m----> <a href='vscode-notebook-cell:/home/mirmi/Arthur/trajnlp_ws/src/NL_trajectory_reshaper/generate_dataset.ipynb#ch0000008?line=1'>2</a>\u001b[0m np\u001b[39m.\u001b[39maverage((X[:,traj_indices]\u001b[39m-\u001b[39mY)\u001b[39m*\u001b[39m\u001b[39m*\u001b[39m\u001b[39m2\u001b[39m)\n\u001b[1;32m      <a href='vscode-notebook-cell:/home/mirmi/Arthur/trajnlp_ws/src/NL_trajectory_reshaper/generate_dataset.ipynb#ch0000008?line=3'>4</a>\u001b[0m np\u001b[39m.\u001b[39maverage([(np\u001b[39m.\u001b[39masarray(d[\u001b[39m\"\u001b[39m\u001b[39minput_traj\u001b[39m\u001b[39m\"\u001b[39m])\u001b[39m-\u001b[39mnp\u001b[39m.\u001b[39masarray(d[\u001b[39m\"\u001b[39m\u001b[39moutput_traj\u001b[39m\u001b[39m\"\u001b[39m]))\u001b[39m*\u001b[39m\u001b[39m*\u001b[39m\u001b[39m2\u001b[39m \u001b[39mfor\u001b[39;00m d \u001b[39min\u001b[39;00m data])\n",
      "\u001b[0;31mNameError\u001b[0m: name 'X' is not defined"
     ]
    }
   ],
   "source": [
    "from src.functions import *\n",
    "np.average((X_[:,traj_indices]-Y)**2)\n",
    "\n",
    "np.average([(np.asarray(d[\"input_traj\"])-np.asarray(d[\"output_traj\"]))**2 for d in data])\n",
    "# np.average([(np.asarray(d[\"input_traj\"]).flatten(order='F')-X_[i,traj_indices])**2 for i,d in enumerate(data)])\n",
    "# np.average([(np.asarray(d[\"output_traj\"]).flatten(order='F')-Y_[i,:])**2 for i,d in enumerate(data)])\n",
    "\n",
    "# np.average([(np.asarray(d[\"output_traj\"]).flatten(order='F')-Y_[i,:])**2 for i,d in enumerate(data)])\n",
    "\n",
    "\n",
    "\n",
    "\n"
   ]
  },
  {
   "cell_type": "code",
   "execution_count": 80,
   "metadata": {},
   "outputs": [
    {
     "name": "stdout",
     "output_type": "stream",
     "text": [
      "[-0.17830039 -0.22488972 -0.25819911 -0.28029669 -0.2932506  -0.29912899\n",
      " -0.3        -0.29793177 -0.29499245 -0.29325017 -0.29477309 -0.29911857\n",
      " -0.28820684 -0.25331564 -0.20939071 -0.17308001 -0.15508266 -0.15202665\n",
      " -0.15850586 -0.16911416 -0.17844541 -0.18242957 -0.18201719 -0.17933787\n",
      " -0.17652126 -0.17569698 -0.17899342 -0.18759242 -0.20003753 -0.21441624\n",
      " -0.22881606 -0.24133673 -0.25062628 -0.25608969 -0.25718732 -0.25337948\n",
      " -0.24412654 -0.22888881 -0.20712665 -0.17830039  0.3         0.29834343\n",
      "  0.27780817  0.24268849  0.19727864  0.14587289  0.09276551  0.04225077\n",
      " -0.00137708 -0.03382377 -0.05079504 -0.05116469 -0.05611863 -0.07758811\n",
      " -0.10115065 -0.11049024 -0.09652869 -0.06730777 -0.03334412 -0.00515438\n",
      "  0.00674482 -0.00514166 -0.03695504 -0.08217007 -0.13426151 -0.18670411\n",
      " -0.23297445 -0.26795833 -0.29046934 -0.3        -0.29604286 -0.27812902\n",
      " -0.24751605 -0.2078451  -0.16293159 -0.11659098 -0.07263869 -0.03489017\n",
      " -0.00716085  0.00673382 -0.10206584 -0.1148161  -0.12941651 -0.14417325\n",
      " -0.15739249 -0.16738041 -0.17244316 -0.17088693 -0.16101789 -0.14114221\n",
      " -0.10956605 -0.06717609 -0.03308867 -0.02136026 -0.02798979 -0.04766335\n",
      " -0.07581799 -0.109667   -0.14668043 -0.18432837 -0.22008087 -0.25151376\n",
      " -0.27660023 -0.2934068  -0.3        -0.29444634 -0.274815   -0.24123365\n",
      " -0.19956741 -0.15667314 -0.11940774 -0.0945416  -0.08497523 -0.08826635\n",
      " -0.10158194 -0.12208902 -0.14695459 -0.17334566 -0.19842924 -0.21937232\n",
      " -0.3        -0.35586438 -0.3676564  -0.39117679 -0.42283913 -0.45881329\n",
      " -0.49554295 -0.5301771  -0.5608015  -0.5860406  -0.60318028 -0.60680591\n",
      " -0.61166367 -0.63220295 -0.64454082 -0.62162324 -0.56603495 -0.49526977\n",
      " -0.41911718 -0.34648469 -0.28694405 -0.24681946 -0.22219549 -0.20748652\n",
      " -0.19895335 -0.1957225  -0.20016477 -0.21484982 -0.23614092 -0.2589763\n",
      " -0.27869312 -0.29051202 -0.28879191 -0.26760997 -0.22640941 -0.17264659\n",
      " -0.11519877 -0.06130727 -0.01676409  0.01374409]\n",
      "[-0.17830039 -0.22488972 -0.25819911 -0.28029669 -0.2932506  -0.29912899\n",
      " -0.3        -0.29793177 -0.29499245 -0.29325017 -0.29477309 -0.29911857\n",
      " -0.28820684 -0.25331564 -0.20939071 -0.17308001 -0.15508266 -0.15202665\n",
      " -0.15850586 -0.16911416 -0.17844541 -0.18242957 -0.18201719 -0.17933787\n",
      " -0.17652126 -0.17569698 -0.17899342 -0.18759242 -0.20003753 -0.21441624\n",
      " -0.22881606 -0.24133673 -0.25062628 -0.25608969 -0.25718732 -0.25337948\n",
      " -0.24412654 -0.22888881 -0.20712665 -0.17830039  0.3         0.29834343\n",
      "  0.27780817  0.24268849  0.19727864  0.14587289  0.09276551  0.04225077\n",
      " -0.00137708 -0.03382377 -0.05079504 -0.05116469 -0.05611863 -0.07758811\n",
      " -0.10115065 -0.11049024 -0.09652869 -0.06730777 -0.03334412 -0.00515438\n",
      "  0.00674482 -0.00514166 -0.03695504 -0.08217007 -0.13426151 -0.18670411\n",
      " -0.23297445 -0.26795833 -0.29046934 -0.3        -0.29604286 -0.27812902\n",
      " -0.24751605 -0.2078451  -0.16293159 -0.11659098 -0.07263869 -0.03489017\n",
      " -0.00716085  0.00673382 -0.10206584 -0.1148161  -0.12941651 -0.14417325\n",
      " -0.15739249 -0.16738041 -0.17244316 -0.17088693 -0.16101789 -0.14114221\n",
      " -0.10956605 -0.06717609 -0.03308867 -0.02136026 -0.02798979 -0.04766335\n",
      " -0.07581799 -0.109667   -0.14668043 -0.18432837 -0.22008087 -0.25151376\n",
      " -0.27660023 -0.2934068  -0.3        -0.29444634 -0.274815   -0.24123365\n",
      " -0.19956741 -0.15667314 -0.11940774 -0.0945416  -0.08497523 -0.08826635\n",
      " -0.10158194 -0.12208902 -0.14695459 -0.17334566 -0.19842924 -0.21937232\n",
      " -0.3        -0.35586438 -0.3676564  -0.39117679 -0.42283913 -0.45881329\n",
      " -0.49554295 -0.5301771  -0.5608015  -0.5860406  -0.60318028 -0.60680591\n",
      " -0.61166367 -0.63220295 -0.64454082 -0.62162324 -0.56603495 -0.49526977\n",
      " -0.41911718 -0.34648469 -0.28694405 -0.24681946 -0.22219549 -0.20748652\n",
      " -0.19895335 -0.1957225  -0.20016477 -0.21484982 -0.23614092 -0.2589763\n",
      " -0.27869312 -0.29051202 -0.28879191 -0.26760997 -0.22640941 -0.17264659\n",
      " -0.11519877 -0.06130727 -0.01676409  0.01374409]\n",
      "[-0.17830039 -0.22488972 -0.25819911 -0.28029669 -0.2932506  -0.29912899\n",
      " -0.3        -0.29793177 -0.29499245 -0.29325017 -0.29477309 -0.29911857\n",
      " -0.28820684 -0.25331564 -0.20939071 -0.17308001 -0.15508266 -0.15202665\n",
      " -0.15850586 -0.16911416 -0.17844541 -0.18242957 -0.18201719 -0.17933787\n",
      " -0.17652126 -0.17569698 -0.17899342 -0.18759242 -0.20003753 -0.21441624\n",
      " -0.22881606 -0.24133673 -0.25062628 -0.25608969 -0.25718732 -0.25337948\n",
      " -0.24412654 -0.22888881 -0.20712665 -0.17830039  0.3         0.29834343\n",
      "  0.27780817  0.24268849  0.19727864  0.14587289  0.09276551  0.04225077\n",
      " -0.00137708 -0.03382377 -0.05079504 -0.05116469 -0.05611863 -0.07758811\n",
      " -0.10115065 -0.11049024 -0.09652869 -0.06730777 -0.03334412 -0.00515438\n",
      "  0.00674482 -0.00514166 -0.03695504 -0.08217007 -0.13426151 -0.18670411\n",
      " -0.23297445 -0.26795833 -0.29046934 -0.3        -0.29604286 -0.27812902\n",
      " -0.24751605 -0.2078451  -0.16293159 -0.11659098 -0.07263869 -0.03489017\n",
      " -0.00716085  0.00673382 -0.10206584 -0.1148161  -0.12941651 -0.14417325\n",
      " -0.15739249 -0.16738041 -0.17244316 -0.17088693 -0.16101789 -0.14114221\n",
      " -0.10956605 -0.06717609 -0.03308867 -0.02136026 -0.02798979 -0.04766335\n",
      " -0.07581799 -0.109667   -0.14668043 -0.18432837 -0.22008087 -0.25151376\n",
      " -0.27660023 -0.2934068  -0.3        -0.29444634 -0.274815   -0.24123365\n",
      " -0.19956741 -0.15667314 -0.11940774 -0.0945416  -0.08497523 -0.08826635\n",
      " -0.10158194 -0.12208902 -0.14695459 -0.17334566 -0.19842924 -0.21937232\n",
      " -0.3        -0.29976487 -0.29727139 -0.29263803 -0.28598324 -0.27742549\n",
      " -0.26708323 -0.25507492 -0.24151903 -0.22653402 -0.21023833 -0.19275044\n",
      " -0.1741888  -0.15467187 -0.13431812 -0.11324599 -0.09157396 -0.06942048\n",
      " -0.04690402 -0.02414302 -0.00125595  0.02163872  0.04442255  0.06697707\n",
      "  0.08918381  0.11092433  0.13208016  0.15253283  0.1721639   0.19085491\n",
      "  0.20848738  0.22494286  0.2401029   0.25384903  0.26606279  0.27662573\n",
      "  0.28541937  0.29232528  0.29722497  0.3       ]\n"
     ]
    }
   ],
   "source": [
    "for d in data:\n",
    "    traj = np.array(d[\"input_traj\"])\n",
    "    x_i, y_i, z_i, vel_i = traj[:,0],traj[:,1],traj[:,2], traj[:,3]\n",
    "    y = np.concatenate([x_i, y_i, z_i, vel_i],axis = -1)\n",
    "    # print(x_i.shape, y_i.shape, z_i.shape,)\n",
    "    print(np.asarray(d[\"output_traj\"]).flatten(order='F'))\n",
    "    print(Y_[0,:])\n",
    "    print(y)\n",
    "    break"
   ]
  },
  {
   "cell_type": "code",
   "execution_count": 54,
   "metadata": {},
   "outputs": [
    {
     "name": "stderr",
     "output_type": "stream",
     "text": [
      "2022-06-03 18:44:39.159195: I tensorflow/compiler/jit/xla_cpu_device.cc:41] Not creating XLA devices, tf_xla_enable_xla_devices not set\n",
      "2022-06-03 18:44:39.159293: I tensorflow/stream_executor/platform/default/dso_loader.cc:49] Successfully opened dynamic library libcuda.so.1\n",
      "2022-06-03 18:44:39.159391: I tensorflow/stream_executor/cuda/cuda_gpu_executor.cc:941] successful NUMA node read from SysFS had negative value (-1), but there must be at least one NUMA node, so returning NUMA node zero\n",
      "2022-06-03 18:44:39.160092: I tensorflow/core/common_runtime/gpu/gpu_device.cc:1720] Found device 0 with properties: \n",
      "pciBusID: 0000:01:00.0 name: NVIDIA GeForce RTX 3090 computeCapability: 8.6\n",
      "coreClock: 1.71GHz coreCount: 82 deviceMemorySize: 23.69GiB deviceMemoryBandwidth: 871.81GiB/s\n",
      "2022-06-03 18:44:39.160112: I tensorflow/stream_executor/platform/default/dso_loader.cc:49] Successfully opened dynamic library libcudart.so.10.1\n",
      "2022-06-03 18:44:39.161444: I tensorflow/stream_executor/platform/default/dso_loader.cc:49] Successfully opened dynamic library libcublas.so.10\n",
      "2022-06-03 18:44:39.161492: I tensorflow/stream_executor/platform/default/dso_loader.cc:49] Successfully opened dynamic library libcublasLt.so.10\n",
      "2022-06-03 18:44:39.162513: I tensorflow/stream_executor/platform/default/dso_loader.cc:49] Successfully opened dynamic library libcufft.so.10\n",
      "2022-06-03 18:44:39.162661: I tensorflow/stream_executor/platform/default/dso_loader.cc:49] Successfully opened dynamic library libcurand.so.10\n",
      "2022-06-03 18:44:39.163754: I tensorflow/stream_executor/platform/default/dso_loader.cc:49] Successfully opened dynamic library libcusolver.so.10\n",
      "2022-06-03 18:44:39.164475: I tensorflow/stream_executor/platform/default/dso_loader.cc:49] Successfully opened dynamic library libcusparse.so.10\n",
      "2022-06-03 18:44:39.166946: I tensorflow/stream_executor/platform/default/dso_loader.cc:49] Successfully opened dynamic library libcudnn.so.7\n",
      "2022-06-03 18:44:39.167077: I tensorflow/stream_executor/cuda/cuda_gpu_executor.cc:941] successful NUMA node read from SysFS had negative value (-1), but there must be at least one NUMA node, so returning NUMA node zero\n",
      "2022-06-03 18:44:39.167924: I tensorflow/stream_executor/cuda/cuda_gpu_executor.cc:941] successful NUMA node read from SysFS had negative value (-1), but there must be at least one NUMA node, so returning NUMA node zero\n",
      "2022-06-03 18:44:39.168549: I tensorflow/core/common_runtime/gpu/gpu_device.cc:1862] Adding visible gpu devices: 0\n",
      "2022-06-03 18:44:39.168818: I tensorflow/core/platform/cpu_feature_guard.cc:142] This TensorFlow binary is optimized with oneAPI Deep Neural Network Library (oneDNN) to use the following CPU instructions in performance-critical operations:  SSE4.1 SSE4.2 AVX AVX2 AVX512F FMA\n",
      "To enable them in other operations, rebuild TensorFlow with the appropriate compiler flags.\n",
      "2022-06-03 18:44:39.169116: I tensorflow/compiler/jit/xla_gpu_device.cc:99] Not creating XLA devices, tf_xla_enable_xla_devices not set\n",
      "2022-06-03 18:44:39.169201: I tensorflow/stream_executor/cuda/cuda_gpu_executor.cc:941] successful NUMA node read from SysFS had negative value (-1), but there must be at least one NUMA node, so returning NUMA node zero\n",
      "2022-06-03 18:44:39.169848: I tensorflow/core/common_runtime/gpu/gpu_device.cc:1720] Found device 0 with properties: \n",
      "pciBusID: 0000:01:00.0 name: NVIDIA GeForce RTX 3090 computeCapability: 8.6\n",
      "coreClock: 1.71GHz coreCount: 82 deviceMemorySize: 23.69GiB deviceMemoryBandwidth: 871.81GiB/s\n",
      "2022-06-03 18:44:39.169880: I tensorflow/stream_executor/platform/default/dso_loader.cc:49] Successfully opened dynamic library libcudart.so.10.1\n",
      "2022-06-03 18:44:39.169915: I tensorflow/stream_executor/platform/default/dso_loader.cc:49] Successfully opened dynamic library libcublas.so.10\n",
      "2022-06-03 18:44:39.169928: I tensorflow/stream_executor/platform/default/dso_loader.cc:49] Successfully opened dynamic library libcublasLt.so.10\n",
      "2022-06-03 18:44:39.169938: I tensorflow/stream_executor/platform/default/dso_loader.cc:49] Successfully opened dynamic library libcufft.so.10\n",
      "2022-06-03 18:44:39.169948: I tensorflow/stream_executor/platform/default/dso_loader.cc:49] Successfully opened dynamic library libcurand.so.10\n",
      "2022-06-03 18:44:39.169958: I tensorflow/stream_executor/platform/default/dso_loader.cc:49] Successfully opened dynamic library libcusolver.so.10\n",
      "2022-06-03 18:44:39.169968: I tensorflow/stream_executor/platform/default/dso_loader.cc:49] Successfully opened dynamic library libcusparse.so.10\n",
      "2022-06-03 18:44:39.169978: I tensorflow/stream_executor/platform/default/dso_loader.cc:49] Successfully opened dynamic library libcudnn.so.7\n",
      "2022-06-03 18:44:39.170006: I tensorflow/stream_executor/cuda/cuda_gpu_executor.cc:941] successful NUMA node read from SysFS had negative value (-1), but there must be at least one NUMA node, so returning NUMA node zero\n",
      "2022-06-03 18:44:39.170644: I tensorflow/stream_executor/cuda/cuda_gpu_executor.cc:941] successful NUMA node read from SysFS had negative value (-1), but there must be at least one NUMA node, so returning NUMA node zero\n",
      "2022-06-03 18:44:39.171261: I tensorflow/core/common_runtime/gpu/gpu_device.cc:1862] Adding visible gpu devices: 0\n",
      "2022-06-03 18:44:39.171292: I tensorflow/stream_executor/platform/default/dso_loader.cc:49] Successfully opened dynamic library libcudart.so.10.1\n",
      "2022-06-03 18:46:13.811221: I tensorflow/core/common_runtime/gpu/gpu_device.cc:1261] Device interconnect StreamExecutor with strength 1 edge matrix:\n",
      "2022-06-03 18:46:13.811238: I tensorflow/core/common_runtime/gpu/gpu_device.cc:1267]      0 \n",
      "2022-06-03 18:46:13.811242: I tensorflow/core/common_runtime/gpu/gpu_device.cc:1280] 0:   N \n",
      "2022-06-03 18:46:13.811357: I tensorflow/stream_executor/cuda/cuda_gpu_executor.cc:941] successful NUMA node read from SysFS had negative value (-1), but there must be at least one NUMA node, so returning NUMA node zero\n",
      "2022-06-03 18:46:13.811525: I tensorflow/stream_executor/cuda/cuda_gpu_executor.cc:941] successful NUMA node read from SysFS had negative value (-1), but there must be at least one NUMA node, so returning NUMA node zero\n",
      "2022-06-03 18:46:13.811663: I tensorflow/stream_executor/cuda/cuda_gpu_executor.cc:941] successful NUMA node read from SysFS had negative value (-1), but there must be at least one NUMA node, so returning NUMA node zero\n",
      "2022-06-03 18:46:13.811794: I tensorflow/core/common_runtime/gpu/gpu_device.cc:1406] Created TensorFlow device (/job:localhost/replica:0/task:0/device:GPU:0 with 981 MB memory) -> physical GPU (device: 0, name: NVIDIA GeForce RTX 3090, pci bus id: 0000:01:00.0, compute capability: 8.6)\n"
     ]
    }
   ],
   "source": [
    "from src.functions import *\n",
    "import tensorflow as tf\n",
    "\n",
    "embedding_indices = np.concatenate([feature_indices,obj_sim_indices, obj_poses_indices])\n",
    "\n",
    "def prepare_x(x):\n",
    "  objs = list_to_wp_seq(x[:,obj_poses_indices],d=4)\n",
    "  trajs = list_to_wp_seq(x[:,traj_indices],d=4)\n",
    "  return np.concatenate([objs,trajs],axis = 1)\n",
    "ds = tf.data.Dataset.from_tensor_slices((prepare_x(X),list_to_wp_seq(Y,d=4),X[:,embedding_indices]))"
   ]
  },
  {
   "cell_type": "code",
   "execution_count": 58,
   "metadata": {},
   "outputs": [],
   "source": [
    "def custom_shard_func(element):\n",
    "  return 0\n",
    "\n",
    "tf.data.experimental.save(\n",
    "    ds, \"banana_ds\"\n",
    ")\n"
   ]
  },
  {
   "cell_type": "code",
   "execution_count": 59,
   "metadata": {},
   "outputs": [
    {
     "ename": "TypeError",
     "evalue": "load() missing 1 required positional argument: 'element_spec'",
     "output_type": "error",
     "traceback": [
      "\u001b[0;31m---------------------------------------------------------------------------\u001b[0m",
      "\u001b[0;31mTypeError\u001b[0m                                 Traceback (most recent call last)",
      "\u001b[1;32m/home/mirmi/Arthur/trajnlp_ws/src/NL_trajectory_reshaper/generate_dataset.ipynb Cell 10'\u001b[0m in \u001b[0;36m<module>\u001b[0;34m\u001b[0m\n\u001b[0;32m----> <a href='vscode-notebook-cell:/home/mirmi/Arthur/trajnlp_ws/src/NL_trajectory_reshaper/generate_dataset.ipynb#ch0000012?line=0'>1</a>\u001b[0m new_dataset \u001b[39m=\u001b[39m tf\u001b[39m.\u001b[39;49mdata\u001b[39m.\u001b[39;49mexperimental\u001b[39m.\u001b[39;49mload(\u001b[39m\"\u001b[39;49m\u001b[39mbanana_ds\u001b[39;49m\u001b[39m\"\u001b[39;49m)\n",
      "\u001b[0;31mTypeError\u001b[0m: load() missing 1 required positional argument: 'element_spec'"
     ]
    }
   ],
   "source": [
    "new_dataset = tf.data.experimental.load(\"banana_ds\")"
   ]
  }
 ],
 "metadata": {
  "interpreter": {
   "hash": "1c38e0a233f76adbef6117ffa3a58d30dfb5d8d6d8b7b91b814da72354a8edca"
  },
  "kernelspec": {
   "display_name": "Python 3.8.2 ('py38')",
   "language": "python",
   "name": "python3"
  },
  "language_info": {
   "codemirror_mode": {
    "name": "ipython",
    "version": 3
   },
   "file_extension": ".py",
   "mimetype": "text/x-python",
   "name": "python",
   "nbconvert_exporter": "python",
   "pygments_lexer": "ipython3",
   "version": "3.8.2"
  },
  "orig_nbformat": 4
 },
 "nbformat": 4,
 "nbformat_minor": 2
}
