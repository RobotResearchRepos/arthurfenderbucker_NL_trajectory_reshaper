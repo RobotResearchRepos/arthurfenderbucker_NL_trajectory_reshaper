{
 "cells": [
  {
   "cell_type": "markdown",
   "metadata": {},
   "source": [
    "## Data generation notebook\n",
    "used for inpection of teh synthetic dataset and tuning"
   ]
  },
  {
   "cell_type": "code",
   "execution_count": 1,
   "metadata": {},
   "outputs": [
    {
     "name": "stderr",
     "output_type": "stream",
     "text": [
      "/home/arthur/.conda/envs/py38_cu11_2/lib/python3.8/site-packages/tqdm/auto.py:22: TqdmWarning: IProgress not found. Please update jupyter and ipywidgets. See https://ipywidgets.readthedocs.io/en/stable/user_install.html\n",
      "  from .autonotebook import tqdm as notebook_tqdm\n"
     ]
    }
   ],
   "source": [
    "\n",
    "import numpy as np\n",
    "import matplotlib.pyplot as plt\n",
    "from mpl_toolkits.mplot3d import Axes3D #for plotting the 3-D plot.\n",
    "from src.data_generator.labels_generator import Label_generator\n",
    "from src.data_generator.data_gen_utils import *\n",
    "from src.motion_refiner_4D import Motion_refiner\n",
    "from src.functions import *\n",
    "from src.config import *\n",
    "\n",
    "import warnings\n",
    "warnings.filterwarnings(\"ignore\", category=DeprecationWarning) \n",
    "# warnings.filterwarnings(\"ignore\", category=FutureWarning) \n",
    "\n",
    "\n",
    "%load_ext autoreload\n",
    "%autoreload 2"
   ]
  },
  {
   "cell_type": "code",
   "execution_count": 2,
   "metadata": {},
   "outputs": [
    {
     "name": "stdout",
     "output_type": "stream",
     "text": [
      "loading BERT model... "
     ]
    },
    {
     "name": "stderr",
     "output_type": "stream",
     "text": [
      "Some weights of the model checkpoint at distilbert-base-uncased were not used when initializing DistilBertModel: ['vocab_layer_norm.weight', 'vocab_layer_norm.bias', 'vocab_transform.bias', 'vocab_transform.weight', 'vocab_projector.bias', 'vocab_projector.weight']\n",
      "- This IS expected if you are initializing DistilBertModel from the checkpoint of a model trained on another task or with another architecture (e.g. initializing a BertForSequenceClassification model from a BertForPreTraining model).\n",
      "- This IS NOT expected if you are initializing DistilBertModel from the checkpoint of a model that you expect to be exactly identical (initializing a BertForSequenceClassification model from a BertForSequenceClassification model).\n"
     ]
    },
    {
     "name": "stdout",
     "output_type": "stream",
     "text": [
      "done\n",
      "loading CLIP model... done\n",
      "loading precomputed CLIP text embbedings... done\n",
      "loading precomputed CLIP img embbedings... done\n",
      "DEVICE:  cuda\n"
     ]
    }
   ],
   "source": [
    "mr = Motion_refiner(traj_n = traj_n, load_models = True, clip_only=False, locality_factor=True, poses_on_features=True, load_precomp_emb=True)\n",
    "obj_lib_file= image_dataset_folder+\"imagenet1000_clsidx_to_labels.txt\"\n",
    "dataset_name = \"test\"\n"
   ]
  },
  {
   "cell_type": "markdown",
   "metadata": {},
   "source": [
    "## Cartesian, distance and speed commands"
   ]
  },
  {
   "cell_type": "code",
   "execution_count": 3,
   "metadata": {},
   "outputs": [
    {
     "name": "stderr",
     "output_type": "stream",
     "text": [
      "100%|██████████| 2/2 [00:00<00:00,  2.04it/s]\n",
      "100%|██████████| 2/2 [00:01<00:00,  1.84it/s]\n"
     ]
    },
    {
     "name": "stdout",
     "output_type": "stream",
     "text": [
      "8\n"
     ]
    }
   ],
   "source": [
    "\n",
    "dg = data_generator({'dist':1, 'cartesian':1, 'speed':1}, obj_lib_file= obj_lib_file, images_base_path=image_dataset_folder)\n",
    "data = dg.generate(2,4,N=[20,100],n_int=[5,15])\n",
    "n_map = 2\n",
    "labels_per_map = 4\n",
    "data = dg.generate(n_map,labels_per_map,N=[50,100],n_int=[3,15])\n",
    "print(len(data))\n",
    "\n",
    "## ------- processed data -------\n",
    "# X,Y = mr.prepare_data(data,deltas=False)\n",
    "# print(\"X: \",X.shape)\n",
    "# print(\"Y: \",Y.shape)\n",
    "# print(\"DONE computing embeddings\")\n",
    "# print(\"saving data...\")\n",
    "# ------- save pre processed data -------\n",
    "# mr.save_XY(X, Y, x_name=\"X\"+dataset_name,y_name=\"Y\"+dataset_name)\n",
    "# mr.save_data(data,data_name=\"data\"+dataset_name)\n",
    "# print(\"DONE\")\n",
    "%matplotlib qt\n",
    "\n",
    "data_sample = random.choices(data,k=3)\n",
    "show_data4D(data_sample)#,image_loader=mr.image_loader)"
   ]
  },
  {
   "cell_type": "markdown",
   "metadata": {},
   "source": [
    "## Force commands"
   ]
  },
  {
   "cell_type": "code",
   "execution_count": 4,
   "metadata": {},
   "outputs": [
    {
     "name": "stderr",
     "output_type": "stream",
     "text": [
      "100%|██████████| 1/1 [00:00<00:00,  1.30it/s]\n",
      "100%|██████████| 10/10 [00:01<00:00,  5.65it/s]\n"
     ]
    },
    {
     "name": "stdout",
     "output_type": "stream",
     "text": [
      "10\n"
     ]
    }
   ],
   "source": [
    "dg = data_generator({'force':1,'cartesian force':1}, obj_lib_file= obj_lib_file, images_base_path=image_dataset_folder)\n",
    "data = dg.generate(1,3,N=[20,100],n_int=[5,15])\n",
    "n_map = 10\n",
    "labels_per_map = 1\n",
    "data = dg.generate(n_map,labels_per_map,N=[50,100],n_int=[3,15],output_forces=True)\n",
    "print(len(data))\n",
    "\n",
    "# ------- processed data -------\n",
    "# X,Y = mr.prepare_data(data,deltas=False,output_forces=True, change_img_base=['/home/arthur/image_dataset/','/home/arthur/data/image_dataset//'])\n",
    "# print(\"X: \",X.shape)\n",
    "# print(\"Y: \",Y.shape)\n",
    "# print(\"DONE computing embeddings\")\n",
    "# print(\"saving data...\")\n",
    "# # ------- save pre processed data -------\n",
    "# mr.save_XY(X, Y, x_name=\"X\"+dataset_name,y_name=\"Y\"+dataset_name)\n",
    "# mr.save_data(data,data_name=\"data\"+dataset_name)\n",
    "# print(\"DONE\")\n",
    "%matplotlib qt\n",
    "\n",
    "# data_sample = random.choices(data,k=3)\n",
    "data_sample = data\n",
    "\n",
    "show_data4D(data_sample,plot_output=False)#,image_loader=mr.image_loader)"
   ]
  },
  {
   "cell_type": "code",
   "execution_count": 30,
   "metadata": {},
   "outputs": [
    {
     "name": "stdout",
     "output_type": "stream",
     "text": [
      "loading dataset:  forces_only_f ...done\n",
      "raw X: (100, 953) \tY: (100, 160)\n",
      "filtered X: (100, 953) \tY: (100, 160)\n"
     ]
    }
   ],
   "source": [
    "X,Y, data = mr.load_dataset(\"forces_only_f\", filter_data = True, base_path=data_folder)\n"
   ]
  },
  {
   "cell_type": "code",
   "execution_count": 32,
   "metadata": {},
   "outputs": [
    {
     "name": "stdout",
     "output_type": "stream",
     "text": [
      "0\n"
     ]
    }
   ],
   "source": [
    "data_sample = []\n",
    "c =0\n",
    "for i,d in enumerate(data):\n",
    "    if d[\"change_type\"] == \"force\":    \n",
    "        for o in d[\"obj_names\"]:\n",
    "            if o in d[\"text\"]:\n",
    "                break\n",
    "        else:\n",
    "            print(\"====================\")\n",
    "            print(d[\"text\"])\n",
    "            print(d[\"obj_names\"])\n",
    "            print(d[\"map_id\"])\n",
    "            c+=1\n",
    "    \n",
    "\n",
    "    # if \"stretcher\" in d[\"text\"]:\n",
    "\n",
    "    #     print(\"====================\")\n",
    "    #     # print(i)\n",
    "    #     print(d[\"map_id\"])\n",
    "    #     # print(d[\"obj\"])\n",
    "    #     print(d[\"obj_names\"])\n",
    "    #     data_sample.append(d)\n",
    "\n",
    "    # if \"stretcher\" in d[\"obj_names\"]:\n",
    "    #     print(\"+++++++++++++++++++\")\n",
    "    #     print(d[\"map_id\"])\n",
    "    #     print(d[\"obj_names\"])\n",
    "    #     data_sample.append(d)\n",
    "print(c)\n",
    "# print(sum([1 for d in data if d[\"map_id\"]==0]))\n"
   ]
  },
  {
   "cell_type": "code",
   "execution_count": 19,
   "metadata": {},
   "outputs": [],
   "source": [
    "# data_sample = random.choices(data,k=10)\n",
    "show_data4D(data_sample,plot_output=False)#,image_loader=mr.image_loader)"
   ]
  },
  {
   "cell_type": "code",
   "execution_count": 54,
   "metadata": {},
   "outputs": [
    {
     "name": "stderr",
     "output_type": "stream",
     "text": [
      "2022-06-03 18:44:39.159195: I tensorflow/compiler/jit/xla_cpu_device.cc:41] Not creating XLA devices, tf_xla_enable_xla_devices not set\n",
      "2022-06-03 18:44:39.159293: I tensorflow/stream_executor/platform/default/dso_loader.cc:49] Successfully opened dynamic library libcuda.so.1\n",
      "2022-06-03 18:44:39.159391: I tensorflow/stream_executor/cuda/cuda_gpu_executor.cc:941] successful NUMA node read from SysFS had negative value (-1), but there must be at least one NUMA node, so returning NUMA node zero\n",
      "2022-06-03 18:44:39.160092: I tensorflow/core/common_runtime/gpu/gpu_device.cc:1720] Found device 0 with properties: \n",
      "pciBusID: 0000:01:00.0 name: NVIDIA GeForce RTX 3090 computeCapability: 8.6\n",
      "coreClock: 1.71GHz coreCount: 82 deviceMemorySize: 23.69GiB deviceMemoryBandwidth: 871.81GiB/s\n",
      "2022-06-03 18:44:39.160112: I tensorflow/stream_executor/platform/default/dso_loader.cc:49] Successfully opened dynamic library libcudart.so.10.1\n",
      "2022-06-03 18:44:39.161444: I tensorflow/stream_executor/platform/default/dso_loader.cc:49] Successfully opened dynamic library libcublas.so.10\n",
      "2022-06-03 18:44:39.161492: I tensorflow/stream_executor/platform/default/dso_loader.cc:49] Successfully opened dynamic library libcublasLt.so.10\n",
      "2022-06-03 18:44:39.162513: I tensorflow/stream_executor/platform/default/dso_loader.cc:49] Successfully opened dynamic library libcufft.so.10\n",
      "2022-06-03 18:44:39.162661: I tensorflow/stream_executor/platform/default/dso_loader.cc:49] Successfully opened dynamic library libcurand.so.10\n",
      "2022-06-03 18:44:39.163754: I tensorflow/stream_executor/platform/default/dso_loader.cc:49] Successfully opened dynamic library libcusolver.so.10\n",
      "2022-06-03 18:44:39.164475: I tensorflow/stream_executor/platform/default/dso_loader.cc:49] Successfully opened dynamic library libcusparse.so.10\n",
      "2022-06-03 18:44:39.166946: I tensorflow/stream_executor/platform/default/dso_loader.cc:49] Successfully opened dynamic library libcudnn.so.7\n",
      "2022-06-03 18:44:39.167077: I tensorflow/stream_executor/cuda/cuda_gpu_executor.cc:941] successful NUMA node read from SysFS had negative value (-1), but there must be at least one NUMA node, so returning NUMA node zero\n",
      "2022-06-03 18:44:39.167924: I tensorflow/stream_executor/cuda/cuda_gpu_executor.cc:941] successful NUMA node read from SysFS had negative value (-1), but there must be at least one NUMA node, so returning NUMA node zero\n",
      "2022-06-03 18:44:39.168549: I tensorflow/core/common_runtime/gpu/gpu_device.cc:1862] Adding visible gpu devices: 0\n",
      "2022-06-03 18:44:39.168818: I tensorflow/core/platform/cpu_feature_guard.cc:142] This TensorFlow binary is optimized with oneAPI Deep Neural Network Library (oneDNN) to use the following CPU instructions in performance-critical operations:  SSE4.1 SSE4.2 AVX AVX2 AVX512F FMA\n",
      "To enable them in other operations, rebuild TensorFlow with the appropriate compiler flags.\n",
      "2022-06-03 18:44:39.169116: I tensorflow/compiler/jit/xla_gpu_device.cc:99] Not creating XLA devices, tf_xla_enable_xla_devices not set\n",
      "2022-06-03 18:44:39.169201: I tensorflow/stream_executor/cuda/cuda_gpu_executor.cc:941] successful NUMA node read from SysFS had negative value (-1), but there must be at least one NUMA node, so returning NUMA node zero\n",
      "2022-06-03 18:44:39.169848: I tensorflow/core/common_runtime/gpu/gpu_device.cc:1720] Found device 0 with properties: \n",
      "pciBusID: 0000:01:00.0 name: NVIDIA GeForce RTX 3090 computeCapability: 8.6\n",
      "coreClock: 1.71GHz coreCount: 82 deviceMemorySize: 23.69GiB deviceMemoryBandwidth: 871.81GiB/s\n",
      "2022-06-03 18:44:39.169880: I tensorflow/stream_executor/platform/default/dso_loader.cc:49] Successfully opened dynamic library libcudart.so.10.1\n",
      "2022-06-03 18:44:39.169915: I tensorflow/stream_executor/platform/default/dso_loader.cc:49] Successfully opened dynamic library libcublas.so.10\n",
      "2022-06-03 18:44:39.169928: I tensorflow/stream_executor/platform/default/dso_loader.cc:49] Successfully opened dynamic library libcublasLt.so.10\n",
      "2022-06-03 18:44:39.169938: I tensorflow/stream_executor/platform/default/dso_loader.cc:49] Successfully opened dynamic library libcufft.so.10\n",
      "2022-06-03 18:44:39.169948: I tensorflow/stream_executor/platform/default/dso_loader.cc:49] Successfully opened dynamic library libcurand.so.10\n",
      "2022-06-03 18:44:39.169958: I tensorflow/stream_executor/platform/default/dso_loader.cc:49] Successfully opened dynamic library libcusolver.so.10\n",
      "2022-06-03 18:44:39.169968: I tensorflow/stream_executor/platform/default/dso_loader.cc:49] Successfully opened dynamic library libcusparse.so.10\n",
      "2022-06-03 18:44:39.169978: I tensorflow/stream_executor/platform/default/dso_loader.cc:49] Successfully opened dynamic library libcudnn.so.7\n",
      "2022-06-03 18:44:39.170006: I tensorflow/stream_executor/cuda/cuda_gpu_executor.cc:941] successful NUMA node read from SysFS had negative value (-1), but there must be at least one NUMA node, so returning NUMA node zero\n",
      "2022-06-03 18:44:39.170644: I tensorflow/stream_executor/cuda/cuda_gpu_executor.cc:941] successful NUMA node read from SysFS had negative value (-1), but there must be at least one NUMA node, so returning NUMA node zero\n",
      "2022-06-03 18:44:39.171261: I tensorflow/core/common_runtime/gpu/gpu_device.cc:1862] Adding visible gpu devices: 0\n",
      "2022-06-03 18:44:39.171292: I tensorflow/stream_executor/platform/default/dso_loader.cc:49] Successfully opened dynamic library libcudart.so.10.1\n",
      "2022-06-03 18:46:13.811221: I tensorflow/core/common_runtime/gpu/gpu_device.cc:1261] Device interconnect StreamExecutor with strength 1 edge matrix:\n",
      "2022-06-03 18:46:13.811238: I tensorflow/core/common_runtime/gpu/gpu_device.cc:1267]      0 \n",
      "2022-06-03 18:46:13.811242: I tensorflow/core/common_runtime/gpu/gpu_device.cc:1280] 0:   N \n",
      "2022-06-03 18:46:13.811357: I tensorflow/stream_executor/cuda/cuda_gpu_executor.cc:941] successful NUMA node read from SysFS had negative value (-1), but there must be at least one NUMA node, so returning NUMA node zero\n",
      "2022-06-03 18:46:13.811525: I tensorflow/stream_executor/cuda/cuda_gpu_executor.cc:941] successful NUMA node read from SysFS had negative value (-1), but there must be at least one NUMA node, so returning NUMA node zero\n",
      "2022-06-03 18:46:13.811663: I tensorflow/stream_executor/cuda/cuda_gpu_executor.cc:941] successful NUMA node read from SysFS had negative value (-1), but there must be at least one NUMA node, so returning NUMA node zero\n",
      "2022-06-03 18:46:13.811794: I tensorflow/core/common_runtime/gpu/gpu_device.cc:1406] Created TensorFlow device (/job:localhost/replica:0/task:0/device:GPU:0 with 981 MB memory) -> physical GPU (device: 0, name: NVIDIA GeForce RTX 3090, pci bus id: 0000:01:00.0, compute capability: 8.6)\n"
     ]
    }
   ],
   "source": [
    "from src.functions import *\n",
    "import tensorflow as tf\n",
    "\n",
    "embedding_indices = np.concatenate([feature_indices,obj_sim_indices, obj_poses_indices])\n",
    "\n",
    "def prepare_x(x):\n",
    "  objs = list_to_wp_seq(x[:,obj_poses_indices],d=4)\n",
    "  trajs = list_to_wp_seq(x[:,traj_indices],d=4)\n",
    "  return np.concatenate([objs,trajs],axis = 1)\n",
    "ds = tf.data.Dataset.from_tensor_slices((prepare_x(X),list_to_wp_seq(Y,d=4),X[:,embedding_indices]))"
   ]
  },
  {
   "cell_type": "code",
   "execution_count": 58,
   "metadata": {},
   "outputs": [],
   "source": [
    "def custom_shard_func(element):\n",
    "  return 0\n",
    "\n",
    "tf.data.experimental.save(\n",
    "    ds, \"banana_ds\"\n",
    ")\n"
   ]
  },
  {
   "cell_type": "code",
   "execution_count": 59,
   "metadata": {},
   "outputs": [
    {
     "ename": "TypeError",
     "evalue": "load() missing 1 required positional argument: 'element_spec'",
     "output_type": "error",
     "traceback": [
      "\u001b[0;31m---------------------------------------------------------------------------\u001b[0m",
      "\u001b[0;31mTypeError\u001b[0m                                 Traceback (most recent call last)",
      "\u001b[1;32m/home/mirmi/Arthur/trajnlp_ws/src/latte/generate_dataset.ipynb Cell 10'\u001b[0m in \u001b[0;36m<module>\u001b[0;34m\u001b[0m\n\u001b[0;32m----> <a href='vscode-notebook-cell:/home/mirmi/Arthur/trajnlp_ws/src/latte/generate_dataset.ipynb#ch0000012?line=0'>1</a>\u001b[0m new_dataset \u001b[39m=\u001b[39m tf\u001b[39m.\u001b[39;49mdata\u001b[39m.\u001b[39;49mexperimental\u001b[39m.\u001b[39;49mload(\u001b[39m\"\u001b[39;49m\u001b[39mbanana_ds\u001b[39;49m\u001b[39m\"\u001b[39;49m)\n",
      "\u001b[0;31mTypeError\u001b[0m: load() missing 1 required positional argument: 'element_spec'"
     ]
    }
   ],
   "source": [
    "new_dataset = tf.data.experimental.load(\"banana_ds\")"
   ]
  }
 ],
 "metadata": {
  "kernelspec": {
   "display_name": "Python 3.8.13 ('py38_cu11_2')",
   "language": "python",
   "name": "python3"
  },
  "language_info": {
   "codemirror_mode": {
    "name": "ipython",
    "version": 3
   },
   "file_extension": ".py",
   "mimetype": "text/x-python",
   "name": "python",
   "nbconvert_exporter": "python",
   "pygments_lexer": "ipython3",
   "version": "3.8.13"
  },
  "orig_nbformat": 4,
  "vscode": {
   "interpreter": {
    "hash": "5de91200c9f9e1f8a0c28ceba668014be0fd55838e84400e0a7ad1d269192773"
   }
  }
 },
 "nbformat": 4,
 "nbformat_minor": 2
}
