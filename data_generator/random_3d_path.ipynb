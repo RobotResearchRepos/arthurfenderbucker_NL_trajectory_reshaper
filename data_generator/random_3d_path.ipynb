{
 "cells": [
  {
   "cell_type": "code",
   "execution_count": 16,
   "metadata": {},
   "outputs": [
    {
     "name": "stdout",
     "output_type": "stream",
     "text": [
      "The autoreload extension is already loaded. To reload it, use:\n",
      "  %reload_ext autoreload\n"
     ]
    }
   ],
   "source": [
    "\n",
    "import numpy as np\n",
    "import matplotlib.pyplot as plt\n",
    "from mpl_toolkits.mplot3d import Axes3D #for plotting the 3-D plot.\n",
    "from scipy import interpolate\n",
    "from labels_generator import Label_generator\n",
    "from data_gen_utils import *\n",
    "\n",
    "import warnings\n",
    "warnings.filterwarnings(\"ignore\", category=DeprecationWarning) \n",
    "warnings.filterwarnings(\"ignore\", category=FutureWarning) \n",
    "\n",
    "\n",
    "\n",
    "%load_ext autoreload\n",
    "%autoreload 2"
   ]
  },
  {
   "cell_type": "code",
   "execution_count": 17,
   "metadata": {},
   "outputs": [],
   "source": [
    "pts = generate_traj(show=True)\n"
   ]
  },
  {
   "cell_type": "code",
   "execution_count": null,
   "metadata": {},
   "outputs": [],
   "source": [
    "\n"
   ]
  },
  {
   "cell_type": "code",
   "execution_count": 18,
   "metadata": {},
   "outputs": [
    {
     "name": "stdout",
     "output_type": "stream",
     "text": [
      "2974\n",
      "ORIGINAL: drive much faster while passing in the proximity of the wall and drive a little slower when passing in the proximity of the rock\n",
      "AUGMENTED:\n",
      "drive much faster while passing in the vicinity of the wall and drive a little slower when passing in the vicinity of the rock\n",
      "Drive much faster while passing in the vicinity of the wall and slower when passing in the vicinity of the rock.\n",
      "drive much faster while passing in the vicinity of the wall and slower when passing in the vicinity of the rock\n",
      "drive much faster while passing in the vicinity of the wall and drive a bit slower when passing in the vicinity of the rock\n",
      "drive much faster while passing in the vicinity of the wall and drive slower when passing in the vicinity of the rock\n",
      "drive much faster while passing in the vicinity of the wall and drive a little slower when passing in the vicinity of the rock.\n",
      "Drive much faster while passing in the vicinity of the wall and slower when passing in the vicinity of the rock\n",
      "Drive much faster while passing in the vicinity of the wall and slower when passing in the vicinity of a rock.\n",
      "drive much faster while passing in the vicinity of the wall and drive a bit slower when passing in the vicinity of the rock.\n",
      "drive much faster while passing in the vicinity of the wall and drive a little slower when passing near the rock\n",
      "DONE\n"
     ]
    }
   ],
   "source": [
    "\n",
    "import random\n",
    "import re\n",
    "import json\n",
    "\n",
    "%matplotlib qt\n",
    "\n",
    "MAX_NUM_OBJS = 6\n",
    "MIN_NUM_OBJS = 2\n",
    "\n",
    "\n",
    "margin = 0.2\n",
    "pts = generate_traj(n_wp = 40, N=100,n_int= 10,show=False, margin=margin)\n",
    "\n",
    "t_ag = Text_augmentor()\n",
    "\n",
    "num_objs = 5\n",
    "\n",
    "\n",
    "all_obj_names = [\"table\",\"chair\",\"tree\", \"rock\", \"wall\", \"bycicle\", \"car\", \"computer\", \"cellphone\", \"TV\"]\n",
    "\n",
    "obj_names = random.sample(all_obj_names, k = num_objs)\n",
    "obj_pt = np.random.random([num_objs,3])*(1-margin)+margin/2\n",
    "objs  = {}\n",
    "for x,y,z,name in zip(obj_pt[:,0],obj_pt[:,1],obj_pt[:,2],obj_names):\n",
    "    objs[name] = {\"value\":{\"obj_p\":[x,y,z]}}\n",
    "\n",
    "\n",
    "\n",
    "lg = Label_generator(objs)\n",
    "# change_type = ['dist']\n",
    "change_type = ['dist','speed', 'cartesian']\n",
    "\n",
    "lg.generate_labels(change_type)\n",
    "\n",
    "print(len(lg.labels))\n",
    "# for k, v in lg.labels:\n",
    "#     print(k)\n",
    "\n",
    "for i,(text, map_cost_f) in enumerate(lg.sample_labels(1)):\n",
    "# for i, (text, map_cost_f) in enumerate(l_set):\n",
    "\n",
    "    map_cost_f_list = [map_cost_f]\n",
    "    num_interactions = 2\n",
    "\n",
    "    for j in range(num_interactions-1):\n",
    "        new_text, new_map_cost_f = lg.sample_labels(1)[0]\n",
    "        map_cost_f_list.append(new_map_cost_f)\n",
    "        text+=\" and \"+new_text\n",
    "\n",
    "    print(\"ORIGINAL:\", text)\n",
    "    pts_new = apply_force(pts,map_cost_f_list)[0][0]\n",
    "\n",
    "    text_aug = t_ag.augment(text,10,10)\n",
    "    print(\"AUGMENTED:\")\n",
    "    for ti in text_aug:\n",
    "        print(ti)\n",
    "    plot_samples(text,pts,[pts_new],objs=objs, color_traj  =True)\n",
    "\n",
    "    print(\"DONE\")\n",
    "\n"
   ]
  },
  {
   "cell_type": "code",
   "execution_count": 23,
   "metadata": {},
   "outputs": [
    {
     "name": "stdout",
     "output_type": "stream",
     "text": [
      "1000\n"
     ]
    }
   ],
   "source": [
    "dg = data_generator({'dist':1,'speed':1, 'cartesian':1}, obj_lib_file= \"/home/mirmi/Arthur/NL_trajectory_reshaper/imagenet1000_clsidx_to_labels.txt\")\n",
    "data = dg.generate(250,4)\n",
    "print(len(data))\n",
    "# dg.next()\n",
    "# dg.next()\n"
   ]
  },
  {
   "cell_type": "code",
   "execution_count": null,
   "metadata": {},
   "outputs": [],
   "source": [
    "i=0\n",
    "pts = data[i][\"input_traj\"]\n",
    "pts_new = data[i][\"output_traj\"]\n",
    "text = data[i][\"text\"]\n",
    "obj_names = data[i][\"obj_names\"]\n",
    "obj_pt = data[i][\"obj_poses\"]\n",
    "obj = data[i][\"obj_in_text\"]\n",
    "lg_ct = data[i][\"change_type\"]\n",
    "mi = data[i][\"map_id\"]\n",
    "\n",
    "objs  = {}\n",
    "for x,y,z,name in zip(obj_pt[:,0],obj_pt[:,1],obj_pt[:,2],obj_names):\n",
    "    objs[name] = {\"value\":{\"obj_p\":[x,y,z]}}\n",
    "    \n",
    "plot_samples(text,pts,[pts_new],objs=objs, color_traj  =True)\n",
    "\n"
   ]
  },
  {
   "cell_type": "code",
   "execution_count": 24,
   "metadata": {},
   "outputs": [
    {
     "name": "stdout",
     "output_type": "stream",
     "text": [
      "{'dist': 292, 'speed': 368, 'cartesian': 340}\n"
     ]
    }
   ],
   "source": [
    "ct = {'dist':0,'speed':0, 'cartesian':0}\n",
    "for d in data:\n",
    "    ct[d[\"change_type\"]]=ct[d[\"change_type\"]]+1\n",
    "print(ct)"
   ]
  },
  {
   "cell_type": "code",
   "execution_count": 40,
   "metadata": {},
   "outputs": [
    {
     "name": "stdout",
     "output_type": "stream",
     "text": [
      "ORIGINAL: Pass a bit slower while passing close to the table.\n",
      "AUGMENTED:\n",
      "While passing close to the table, pass a bit slower.\n",
      "While passing close to the table pass a bit slower.\n",
      "It's a good idea to pass a bit slower.\n"
     ]
    }
   ],
   "source": [
    "\n",
    "text =\"Pass a bit slower while passing close to the table.\"\n",
    "print(\"ORIGINAL:\", text)\n",
    "\n",
    "text_aug = t_ag.augment(text,3,10)\n",
    "print(\"AUGMENTED:\")\n",
    "for ti in text_aug:\n",
    "    print(ti)"
   ]
  },
  {
   "cell_type": "code",
   "execution_count": 46,
   "metadata": {},
   "outputs": [
    {
     "data": {
      "text/plain": [
       "[1234, 13]"
      ]
     },
     "execution_count": 46,
     "metadata": {},
     "output_type": "execute_result"
    }
   ],
   "source": []
  },
  {
   "cell_type": "code",
   "execution_count": null,
   "metadata": {},
   "outputs": [],
   "source": [
    "model_name = 'tuner007/pegasus_paraphrase' \n",
    "torch_device = 'cpu'\n",
    "tokenizer = PegasusTokenizer.from_pretrained(model_name)\n",
    "model = PegasusForConditionalGeneration.from_pretrained(model_name).to(torch_device)"
   ]
  },
  {
   "cell_type": "code",
   "execution_count": null,
   "metadata": {},
   "outputs": [
    {
     "data": {
      "text/plain": [
       "['Which data science course should I take?',\n",
       " 'Which data science course should I take first?',\n",
       " 'Should I take a data science course?',\n",
       " 'Which data science class should I take?',\n",
       " 'Which data science course should I attend?',\n",
       " 'I want to get started in data science.',\n",
       " 'Which data science course should I enroll in?',\n",
       " 'Which data science course is right for me?',\n",
       " 'Which data science course is best for me?',\n",
       " 'Which course should I take to get started?']"
      ]
     },
     "execution_count": 23,
     "metadata": {},
     "output_type": "execute_result"
    }
   ],
   "source": [
    "def get_response(input_text: str, num_return_sequences: int, num_beams: int) -> List[str]:\n",
    "      batch = tokenizer.prepare_seq2seq_batch([input_text], truncation=True, padding='longest', return_tensors='pt').to(torch_device)\n",
    "      translated = model.generate(**batch, max_length = 60, num_beams = num_beams, num_return_sequences = num_return_sequences, temperature = 1.5)\n",
    "      tgt_text = tokenizer.batch_decode(translated, skip_special_tokens = True)\n",
    "      return tgt_text\n",
    "\n",
    "context = \"Which course should I take to get started in data science?\"\n",
    "num_return_sequences = 10\n",
    "num_beams = 10\n",
    "get_response(context, num_return_sequences, num_beams)"
   ]
  },
  {
   "cell_type": "code",
   "execution_count": null,
   "metadata": {},
   "outputs": [],
   "source": []
  }
 ],
 "metadata": {
  "interpreter": {
   "hash": "1c38e0a233f76adbef6117ffa3a58d30dfb5d8d6d8b7b91b814da72354a8edca"
  },
  "kernelspec": {
   "display_name": "Python 3.8.2 ('py38')",
   "language": "python",
   "name": "python3"
  },
  "language_info": {
   "codemirror_mode": {
    "name": "ipython",
    "version": 3
   },
   "file_extension": ".py",
   "mimetype": "text/x-python",
   "name": "python",
   "nbconvert_exporter": "python",
   "pygments_lexer": "ipython3",
   "version": "3.8.2"
  },
  "orig_nbformat": 4
 },
 "nbformat": 4,
 "nbformat_minor": 2
}
